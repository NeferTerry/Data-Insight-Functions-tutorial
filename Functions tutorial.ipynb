{
 "cells": [
  {
   "cell_type": "markdown",
   "id": "def3ce2f",
   "metadata": {},
   "source": [
    "Define a simple function that doubles any number"
   ]
  },
  {
   "cell_type": "code",
   "execution_count": 9,
   "id": "4c721afc",
   "metadata": {},
   "outputs": [],
   "source": [
    "def double_num(number):\n",
    "    return number * 2"
   ]
  },
  {
   "cell_type": "markdown",
   "id": "4ed6c81b",
   "metadata": {},
   "source": [
    "Let us call this function on some values"
   ]
  },
  {
   "cell_type": "code",
   "execution_count": 10,
   "id": "204ca030",
   "metadata": {
    "scrolled": true
   },
   "outputs": [
    {
     "data": {
      "text/plain": [
       "1778"
      ]
     },
     "execution_count": 10,
     "metadata": {},
     "output_type": "execute_result"
    }
   ],
   "source": [
    "a = 889\n",
    "double_num(a)"
   ]
  },
  {
   "cell_type": "markdown",
   "id": "41810c29",
   "metadata": {},
   "source": [
    "We can store the function output"
   ]
  },
  {
   "cell_type": "code",
   "execution_count": 12,
   "id": "4c1d68f8",
   "metadata": {},
   "outputs": [
    {
     "name": "stdout",
     "output_type": "stream",
     "text": [
      "1778\n"
     ]
    }
   ],
   "source": [
    "out_fun = double_num(a)\n",
    "print(out_fun)"
   ]
  },
  {
   "cell_type": "markdown",
   "id": "6a4d9adc",
   "metadata": {},
   "source": [
    "Now let us call the function on a different kind of data, a string."
   ]
  },
  {
   "cell_type": "code",
   "execution_count": 18,
   "id": "de722d30",
   "metadata": {},
   "outputs": [
    {
     "data": {
      "text/plain": [
       "'data data '"
      ]
     },
     "execution_count": 18,
     "metadata": {},
     "output_type": "execute_result"
    }
   ],
   "source": [
    "double_num('data ')"
   ]
  },
  {
   "cell_type": "markdown",
   "id": "682d3cda",
   "metadata": {},
   "source": [
    "Scope example: The argument is only meaningful inside its function."
   ]
  },
  {
   "cell_type": "code",
   "execution_count": 45,
   "id": "5dba9959",
   "metadata": {},
   "outputs": [
    {
     "data": {
      "text/plain": [
       "18"
      ]
     },
     "execution_count": 45,
     "metadata": {},
     "output_type": "execute_result"
    }
   ],
   "source": [
    "number = 7\n",
    "double_num(9)"
   ]
  },
  {
   "cell_type": "markdown",
   "id": "09ffe5c1",
   "metadata": {},
   "source": [
    "Full working example"
   ]
  },
  {
   "cell_type": "code",
   "execution_count": 52,
   "id": "47c79306",
   "metadata": {},
   "outputs": [
    {
     "name": "stdout",
     "output_type": "stream",
     "text": [
      "Name: Amanda\n",
      "Hello Amanda I wanna play a game.\n"
     ]
    }
   ],
   "source": [
    "name_input = input('Name: ')\n",
    "def greeter(name):\n",
    "    return 'Hello ' + name + \" I wanna play a game!\"\n",
    "print(greeter(name_input))    "
   ]
  }
 ],
 "metadata": {
  "kernelspec": {
   "display_name": "Python 3",
   "language": "python",
   "name": "python3"
  },
  "language_info": {
   "codemirror_mode": {
    "name": "ipython",
    "version": 3
   },
   "file_extension": ".py",
   "mimetype": "text/x-python",
   "name": "python",
   "nbconvert_exporter": "python",
   "pygments_lexer": "ipython3",
   "version": "3.8.8"
  }
 },
 "nbformat": 4,
 "nbformat_minor": 5
}
